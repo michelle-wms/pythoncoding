{
 "cells": [
  {
   "cell_type": "code",
   "execution_count": 2,
   "id": "d73fa0e8-0d7d-4be0-bd9a-f0ae39914da0",
   "metadata": {},
   "outputs": [],
   "source": [
    "from collections import defaultdict"
   ]
  },
  {
   "cell_type": "code",
   "execution_count": 1,
   "id": "2674aa3d-7d08-431e-9eeb-b4377330a90c",
   "metadata": {},
   "outputs": [],
   "source": [
    "nums = [2,7,11,15,20,25]\n",
    "target = 9"
   ]
  },
  {
   "cell_type": "code",
   "execution_count": 7,
   "id": "df1162e1-0f56-4fbc-aeae-376dc240d140",
   "metadata": {},
   "outputs": [],
   "source": [
    "dic = {}\n",
    "\n",
    "def two_sums(nums, target):     # Return indexes that sums to target\n",
    "    for i, n in enumerate(nums):   \n",
    "        rem = target - n\n",
    "        if rem in dic:\n",
    "            return i, dic[rem]\n",
    "        dic[n] = i\n"
   ]
  },
  {
   "cell_type": "code",
   "execution_count": 8,
   "id": "25a8e563-38a9-42ee-b47c-114fe399e0ff",
   "metadata": {},
   "outputs": [
    {
     "data": {
      "text/plain": [
       "(1, 0)"
      ]
     },
     "execution_count": 8,
     "metadata": {},
     "output_type": "execute_result"
    }
   ],
   "source": [
    "two_sums(nums, target)"
   ]
  },
  {
   "cell_type": "markdown",
   "id": "56429e71-e28b-4f18-b768-f671fe10a405",
   "metadata": {},
   "source": [
    "### 2-sum simple (pointers)"
   ]
  },
  {
   "cell_type": "code",
   "execution_count": null,
   "id": "daa15f13-6bd1-4f60-be0a-deefd842dec4",
   "metadata": {},
   "outputs": [],
   "source": [
    "nums = [2,7,11,15,20,25]\n",
    "target = 9"
   ]
  },
  {
   "cell_type": "code",
   "execution_count": 30,
   "id": "ef2e1fe1-5d86-465e-99b6-ebd373f44eb7",
   "metadata": {},
   "outputs": [],
   "source": [
    "def two_sums(nums, target):\n",
    "    \n",
    "    l, r = 0, len(nums)-1\n",
    "    \n",
    "    while l < r:\n",
    "        if nums[l] + nums[r] > target:\n",
    "            r -= 1\n",
    "        elif nums[l] + nums[r] < target:\n",
    "            l += 1\n",
    "        else:\n",
    "            return l+1, r+1"
   ]
  },
  {
   "cell_type": "code",
   "execution_count": 31,
   "id": "5503ddc4-a67e-4800-84eb-93701557c8eb",
   "metadata": {},
   "outputs": [
    {
     "data": {
      "text/plain": [
       "(1, 2)"
      ]
     },
     "execution_count": 31,
     "metadata": {},
     "output_type": "execute_result"
    }
   ],
   "source": [
    "two_sums(nums, target)"
   ]
  },
  {
   "cell_type": "markdown",
   "id": "9ce2b1a0-a631-4bc4-a347-7833759fa0e3",
   "metadata": {},
   "source": [
    "### 3 sums simple (pointers)"
   ]
  },
  {
   "cell_type": "code",
   "execution_count": 41,
   "id": "b3655e7a-f760-42b0-84a5-8785ee99c63e",
   "metadata": {
    "tags": []
   },
   "outputs": [],
   "source": [
    "def three(nums):\n",
    "    \n",
    "    nums = sorted(nums)\n",
    "    answer = set()\n",
    "    \n",
    "    for l, n in enumerate(nums):\n",
    "        m = l+1\n",
    "        r = len(nums)-1\n",
    "        rem = 0 - n\n",
    "        \n",
    "        while m < r:\n",
    "            if nums[m] + nums[r] > rem:\n",
    "                r -= 1\n",
    "            elif nums[m] + nums[r] < rem:\n",
    "                m += 1\n",
    "            else:\n",
    "                print('ok')\n",
    "                answer.add((nums[l], nums[m], nums[r]))\n",
    "                m += 1\n",
    "                r -= 1\n",
    "    return answer"
   ]
  },
  {
   "cell_type": "code",
   "execution_count": 42,
   "id": "6f2e8087-ab1d-4311-94e9-4e7fd790ac0e",
   "metadata": {},
   "outputs": [
    {
     "name": "stdout",
     "output_type": "stream",
     "text": [
      "ok\n",
      "ok\n",
      "ok\n"
     ]
    },
    {
     "data": {
      "text/plain": [
       "{(-1, -1, 2), (-1, 0, 1)}"
      ]
     },
     "execution_count": 42,
     "metadata": {},
     "output_type": "execute_result"
    }
   ],
   "source": [
    "nums = [-1,0,1,2,-1,-4]\n",
    "three(nums)"
   ]
  },
  {
   "cell_type": "code",
   "execution_count": 28,
   "id": "388dea65-87ac-43be-909d-bd10d4a27c4d",
   "metadata": {},
   "outputs": [],
   "source": [
    "def three(nums):\n",
    "    \n",
    "    nums = sorted(nums)\n",
    "    result = set()\n",
    "    for i, n in enumerate(nums):\n",
    "        l = i + 1\n",
    "        r = len(nums) - 1\n",
    "        target = 0 - n\n",
    "        while l < r:\n",
    "            if nums[l] + nums[r] < target:\n",
    "                l += 1\n",
    "            elif nums[l] + nums[r] > target:\n",
    "                r -= 1\n",
    "            else:\n",
    "                \n",
    "                result.add((nums[i], nums[l], nums[r]))\n",
    "                l += 1\n",
    "                r -= 1\n",
    "                \n",
    "    return list(result)"
   ]
  },
  {
   "cell_type": "code",
   "execution_count": 29,
   "id": "500e5e5c-9e6f-4c6a-b882-2d680814a166",
   "metadata": {},
   "outputs": [
    {
     "data": {
      "text/plain": [
       "[(-1, 0, 1), (-1, -1, 2)]"
      ]
     },
     "execution_count": 29,
     "metadata": {},
     "output_type": "execute_result"
    }
   ],
   "source": [
    "nums = [-1,0,1,2,-1,-4]\n",
    "three(nums)"
   ]
  },
  {
   "cell_type": "code",
   "execution_count": null,
   "id": "a63d3405-53f1-472d-a02b-157331547806",
   "metadata": {},
   "outputs": [],
   "source": []
  },
  {
   "cell_type": "code",
   "execution_count": 1,
   "id": "2fdf96e0-dfff-4687-98a6-d431d2123be0",
   "metadata": {},
   "outputs": [],
   "source": [
    "nums = [1,2,3,4]"
   ]
  },
  {
   "cell_type": "code",
   "execution_count": 6,
   "id": "97f65aa2-d440-4715-930f-f7f9e71ef8e4",
   "metadata": {},
   "outputs": [
    {
     "data": {
      "text/plain": [
       "[24.0, 12.0, 8.0, 6.0]"
      ]
     },
     "execution_count": 6,
     "metadata": {},
     "output_type": "execute_result"
    }
   ],
   "source": [
    "import numpy as np\n",
    "all_prod = np.prod(nums)\n",
    "\n",
    "arr = [] \n",
    "\n",
    "for i, n in enumerate(nums):\n",
    "    arr.append(all_prod/n)\n",
    "\n",
    "arr"
   ]
  },
  {
   "cell_type": "code",
   "execution_count": 7,
   "id": "c32ee476-27f8-4f97-a450-c9352f53d452",
   "metadata": {},
   "outputs": [],
   "source": [
    "s1 = 'ab'\n",
    "s2 = 'eidbaooo'\n",
    "s3 = 'eidboaoo'"
   ]
  },
  {
   "cell_type": "code",
   "execution_count": 11,
   "id": "428c0502-da56-48b9-987e-a65eb5f7cb0e",
   "metadata": {},
   "outputs": [],
   "source": [
    "for n in s1:\n",
    "    if n not in s2:\n",
    "        print('no')\n",
    "    else:\n",
    "        \n"
   ]
  },
  {
   "cell_type": "code",
   "execution_count": 13,
   "id": "d59007cf-ce67-4b73-b9e2-9fed651d1c0a",
   "metadata": {},
   "outputs": [
    {
     "name": "stdout",
     "output_type": "stream",
     "text": [
      "1\n",
      "2\n",
      "3\n",
      "4\n",
      "5\n"
     ]
    }
   ],
   "source": [
    "for i in range(1,6):\n",
    "    print(i)"
   ]
  },
  {
   "cell_type": "code",
   "execution_count": 21,
   "id": "30692cea-9cb1-4be2-8477-c9a132010b2e",
   "metadata": {},
   "outputs": [
    {
     "name": "stdout",
     "output_type": "stream",
     "text": [
      "0\n",
      "1\n",
      "3\n",
      "6\n",
      "10\n",
      "15\n"
     ]
    },
    {
     "data": {
      "text/plain": [
       "4"
      ]
     },
     "execution_count": 21,
     "metadata": {},
     "output_type": "execute_result"
    }
   ],
   "source": [
    "csum=0\n",
    "result=0\n",
    "n=15\n",
    "\n",
    "for i in range(1, n+1):\n",
    "\n",
    "    csum += i-1\n",
    "    print(csum)\n",
    "\n",
    "    if csum >= n:\n",
    "        break\n",
    "\n",
    "    if (n-csum)%i == 0:\n",
    "        result += 1\n",
    "\n",
    "result"
   ]
  },
  {
   "cell_type": "code",
   "execution_count": 34,
   "id": "85730dd9-e77a-4cce-b5ab-730d58a35064",
   "metadata": {},
   "outputs": [
    {
     "name": "stdout",
     "output_type": "stream",
     "text": [
      "0,1, 15\n",
      "1,2, 14\n",
      "3,3, 12\n",
      "10,5, 5\n"
     ]
    },
    {
     "data": {
      "text/plain": [
       "4"
      ]
     },
     "execution_count": 34,
     "metadata": {},
     "output_type": "execute_result"
    }
   ],
   "source": [
    "csum=0\n",
    "result=0\n",
    "n=15\n",
    "\n",
    "for i in range(1, n+1):\n",
    "\n",
    "    csum += i-1\n",
    "    #print(csum)\n",
    "\n",
    "    if csum >= n:\n",
    "        break\n",
    "\n",
    "    if (n-csum)%i == 0:\n",
    "        print(f'{csum},{i}, {n-csum}')\n",
    "        result += 1\n",
    "\n",
    "result"
   ]
  },
  {
   "cell_type": "code",
   "execution_count": 3,
   "id": "08ba3d2b-cf4b-431d-b754-a28c8700727c",
   "metadata": {},
   "outputs": [],
   "source": [
    "strs = [\"eat\",\"tea\",\"tan\",\"ate\",\"nat\",\"bat\"]"
   ]
  },
  {
   "cell_type": "code",
   "execution_count": 29,
   "id": "099f4469-6e1f-4147-9db7-3fef570bea0d",
   "metadata": {},
   "outputs": [],
   "source": [
    "a = [1,3,5,2,2,6]"
   ]
  },
  {
   "cell_type": "code",
   "execution_count": 38,
   "id": "7c703320-de56-44d0-9586-0c0806cf97a3",
   "metadata": {},
   "outputs": [
    {
     "data": {
      "text/plain": [
       "{1: 1, 3: 1, 5: 1, 2: 2, 6: 1}"
      ]
     },
     "execution_count": 38,
     "metadata": {},
     "output_type": "execute_result"
    }
   ],
   "source": [
    "d = {}\n",
    "\n",
    "for n in a:\n",
    "    d[n] = 1 + d.get(n, 0)\n",
    "\n",
    "d"
   ]
  },
  {
   "cell_type": "code",
   "execution_count": 39,
   "id": "dc7025c1-a6af-4f76-801d-b6610737b49a",
   "metadata": {},
   "outputs": [
    {
     "data": {
      "text/plain": [
       "[1, 2, 2, 3, 5, 6]"
      ]
     },
     "execution_count": 39,
     "metadata": {},
     "output_type": "execute_result"
    }
   ],
   "source": [
    "m = min(a)\n",
    "M = max(a)\n",
    "S = []\n",
    "for n in range(m, M+1):\n",
    "    S.extend([n] * d.get(n, 0))\n",
    "S"
   ]
  },
  {
   "cell_type": "code",
   "execution_count": 52,
   "id": "7fd12a41-b92c-4101-8ce1-2aea6451b500",
   "metadata": {},
   "outputs": [
    {
     "data": {
      "text/plain": [
       "{2: 2, 1: 1, 3: 1, 5: 1, 6: 1}"
      ]
     },
     "execution_count": 52,
     "metadata": {},
     "output_type": "execute_result"
    }
   ],
   "source": [
    "b = dict(sorted(d.items(), key = lambda x: x[1], reverse=True))\n",
    "\n",
    "b\n"
   ]
  },
  {
   "cell_type": "code",
   "execution_count": 67,
   "id": "6a597408-5469-4e95-b269-f0d3cada1bb4",
   "metadata": {},
   "outputs": [
    {
     "data": {
      "text/plain": [
       "[2, 1, 3, 5, 6]"
      ]
     },
     "execution_count": 67,
     "metadata": {},
     "output_type": "execute_result"
    }
   ],
   "source": [
    "list(b.keys())"
   ]
  },
  {
   "cell_type": "code",
   "execution_count": null,
   "id": "a5e68726-8b81-489b-9d5d-f0f95da32948",
   "metadata": {},
   "outputs": [],
   "source": []
  },
  {
   "cell_type": "markdown",
   "id": "834f879c-8df9-427b-9d05-5da37a64b3b8",
   "metadata": {},
   "source": [
    "### 3 arrays"
   ]
  },
  {
   "cell_type": "code",
   "execution_count": 10,
   "id": "906b46e9-86d0-470c-bfef-f0822b8611da",
   "metadata": {},
   "outputs": [],
   "source": [
    "A = [1, 2, 3, 4] \n",
    "B = [5, 6, 7, 8] \n",
    "C = [1, 1, 2, 2]\n",
    "\n",
    "D = [8, 12, 9, 14]"
   ]
  },
  {
   "cell_type": "code",
   "execution_count": 24,
   "id": "d4d11a6f-8379-4fd3-95e9-350f8d2078c7",
   "metadata": {},
   "outputs": [
    {
     "data": {
      "text/plain": [
       "28"
      ]
     },
     "execution_count": 24,
     "metadata": {},
     "output_type": "execute_result"
    }
   ],
   "source": [
    "from collections import defaultdict\n",
    "\n",
    "sumhash = defaultdict(int)\n",
    "remhash = defaultdict(int)\n",
    "\n",
    "result = 0\n",
    "\n",
    "for a in A:\n",
    "    for b in B:\n",
    "        sumhash[a+b] += 1\n",
    "\n",
    "for c in C:\n",
    "    remhash[c] += 1\n",
    "    \n",
    "for d in D:\n",
    "    for k in sumhash:\n",
    "        rem = d - k\n",
    "        if rem in remhash:\n",
    "            result += remhash[rem] * sumhash[k]\n",
    "\n",
    "result"
   ]
  },
  {
   "cell_type": "code",
   "execution_count": 26,
   "id": "a6b85b01-b42f-4289-8b66-c0c242ea6c23",
   "metadata": {},
   "outputs": [
    {
     "data": {
      "text/plain": [
       "defaultdict(int, {6: 1, 7: 2, 8: 3, 9: 4, 10: 3, 11: 2, 12: 1})"
      ]
     },
     "execution_count": 26,
     "metadata": {},
     "output_type": "execute_result"
    }
   ],
   "source": [
    "sumhash"
   ]
  },
  {
   "cell_type": "code",
   "execution_count": 22,
   "id": "72250f70-2263-4596-ad71-98e12be790e7",
   "metadata": {},
   "outputs": [
    {
     "data": {
      "text/plain": [
       "defaultdict(int, {1: 2, 2: 2})"
      ]
     },
     "execution_count": 22,
     "metadata": {},
     "output_type": "execute_result"
    }
   ],
   "source": [
    "remhash"
   ]
  },
  {
   "cell_type": "markdown",
   "id": "fc08db34-cec3-4c9c-97cb-fb52210268f4",
   "metadata": {},
   "source": [
    "### 3sum: get # solutions smaller than target"
   ]
  },
  {
   "cell_type": "code",
   "execution_count": 22,
   "id": "7d8a7cb1-bd43-4b74-a7e7-a9c044da6ad9",
   "metadata": {},
   "outputs": [],
   "source": [
    "def tsum(nums, target):\n",
    "    \n",
    "    result = 0\n",
    "    for i, n in enumerate(nums):\n",
    "        rem = target - n\n",
    "        j, k = i+1, len(nums)-1\n",
    "\n",
    "        while j < k:\n",
    "            if nums[j] + nums[k] >= rem:\n",
    "                k -=1\n",
    "            else:\n",
    "                result += k-j\n",
    "                j += 1\n",
    "                #k -= 1\n",
    "    return result"
   ]
  },
  {
   "cell_type": "code",
   "execution_count": 23,
   "id": "ab8f361f-962e-4830-ae32-0591ea00d9d8",
   "metadata": {},
   "outputs": [
    {
     "data": {
      "text/plain": [
       "2"
      ]
     },
     "execution_count": 23,
     "metadata": {},
     "output_type": "execute_result"
    }
   ],
   "source": [
    "tsum([-2, 0, 1, 3], target = 2)"
   ]
  },
  {
   "cell_type": "markdown",
   "id": "9111fd54-2dcd-42ae-8c27-e9085f352e69",
   "metadata": {
    "tags": []
   },
   "source": [
    "### Top k frequent elements (given nums, k)"
   ]
  },
  {
   "cell_type": "code",
   "execution_count": 27,
   "id": "25263740-7eec-486f-9b74-8176964c5611",
   "metadata": {},
   "outputs": [],
   "source": [
    "nums = [1,1,1,2,3,4]\n",
    "k = 3"
   ]
  },
  {
   "cell_type": "code",
   "execution_count": 28,
   "id": "d7ad9885-f9ff-4486-9f5a-cda35437462a",
   "metadata": {
    "tags": []
   },
   "outputs": [
    {
     "data": {
      "text/plain": [
       "[1, 1, 1]"
      ]
     },
     "execution_count": 28,
     "metadata": {},
     "output_type": "execute_result"
    }
   ],
   "source": [
    "from collections import defaultdict\n",
    "\n",
    "freq = defaultdict(int)\n",
    "results = []\n",
    "\n",
    "for n in nums:\n",
    "    freq[n] += 1 \n",
    "\n",
    "new_dict = dict(sorted(freq.items(), key=lambda item: item[1], reverse=True))\n",
    "\n",
    "for key, v in new_dict.items():\n",
    "    results.extend([key]*v)\n",
    "    if len(results) == k:\n",
    "        break\n",
    "\n",
    "results\n"
   ]
  },
  {
   "cell_type": "markdown",
   "id": "915aa9ce-d09a-4571-bdd2-b51b53b91ad5",
   "metadata": {},
   "source": [
    "### Product of all except self"
   ]
  },
  {
   "cell_type": "code",
   "execution_count": 29,
   "id": "d25c5e4f-3605-4dfc-9f85-f823183e5166",
   "metadata": {},
   "outputs": [],
   "source": [
    "nums = [1,1,1,2,3,4]"
   ]
  },
  {
   "cell_type": "code",
   "execution_count": 31,
   "id": "3486a212-0ccf-4b49-b94b-b3ed8c0b6a87",
   "metadata": {},
   "outputs": [
    {
     "data": {
      "text/plain": [
       "[24, 24, 24, 12, 8, 6]"
      ]
     },
     "execution_count": 31,
     "metadata": {},
     "output_type": "execute_result"
    }
   ],
   "source": [
    "result = [1] * len(nums)\n",
    "        \n",
    "prefix=1\n",
    "for i, n in enumerate(nums):\n",
    "    result[i] = prefix\n",
    "    prefix *= n\n",
    "\n",
    "postfix=1\n",
    "for i, n in reversed(list(enumerate(nums))):\n",
    "    result[i] *= postfix\n",
    "    postfix *= n\n",
    "\n",
    "result\n"
   ]
  },
  {
   "cell_type": "markdown",
   "id": "525fc490-36e4-4daf-8a08-4bd705da5161",
   "metadata": {},
   "source": [
    "### Buy sell stocks (pointers)"
   ]
  },
  {
   "cell_type": "code",
   "execution_count": 34,
   "id": "7a6ad1fa-dd14-4b96-ac6f-cde4a1b6cc41",
   "metadata": {},
   "outputs": [],
   "source": [
    "prices = [10, 20, 5, 60]"
   ]
  },
  {
   "cell_type": "code",
   "execution_count": 35,
   "id": "bb89805a-c1eb-4e8a-a7bf-35b1a1e12a7f",
   "metadata": {},
   "outputs": [
    {
     "data": {
      "text/plain": [
       "55"
      ]
     },
     "execution_count": 35,
     "metadata": {},
     "output_type": "execute_result"
    }
   ],
   "source": [
    "buy, sell = 0, 1\n",
    "max_profit = 0\n",
    "\n",
    "while sell < len(prices):\n",
    "    if prices[sell] > prices[buy]:\n",
    "        max_profit = max(prices[sell] - prices[buy], max_profit)\n",
    "    else:\n",
    "        buy = sell\n",
    "    sell += 1\n",
    "\n",
    "max_profit\n"
   ]
  },
  {
   "cell_type": "markdown",
   "id": "e7757ae3-733d-4a4f-90c6-eaa0ac5c7a4e",
   "metadata": {
    "tags": []
   },
   "source": [
    "### All subarrays with sum=k "
   ]
  },
  {
   "cell_type": "code",
   "execution_count": 39,
   "id": "a573c39d-ea68-4356-95c4-b91029d34dc9",
   "metadata": {},
   "outputs": [],
   "source": [
    "nums = [1,1,1,2,3,4]\n",
    "k = 3"
   ]
  },
  {
   "cell_type": "code",
   "execution_count": 40,
   "id": "b559da97-7cdb-465e-a89c-2203e225a892",
   "metadata": {},
   "outputs": [
    {
     "data": {
      "text/plain": [
       "3"
      ]
     },
     "execution_count": 40,
     "metadata": {},
     "output_type": "execute_result"
    }
   ],
   "source": [
    "result = 0\n",
    "prefix = {0:1}\n",
    "cursum = 0\n",
    "\n",
    "for n in nums:\n",
    "    cursum += n\n",
    "    diff = cursum - k\n",
    "    result += prefix.get(diff, 0)\n",
    "    prefix[cursum] = 1 + prefix.get(cursum, 0)\n",
    "\n",
    "result\n"
   ]
  },
  {
   "cell_type": "markdown",
   "id": "af5a940e-7011-4f20-b71b-a9492a1e53fc",
   "metadata": {},
   "source": [
    "### Sort: Countsort "
   ]
  },
  {
   "cell_type": "code",
   "execution_count": 45,
   "id": "1e737e9c-5cd9-4f7c-9f8b-ba0a48ae9def",
   "metadata": {},
   "outputs": [],
   "source": [
    "nums = [5,4,3,1,2,6]"
   ]
  },
  {
   "cell_type": "code",
   "execution_count": 46,
   "id": "4dcb8754-751d-4cfe-b593-3c9d75e71e3c",
   "metadata": {},
   "outputs": [
    {
     "data": {
      "text/plain": [
       "[1, 2, 3, 4, 5, 6]"
      ]
     },
     "execution_count": 46,
     "metadata": {},
     "output_type": "execute_result"
    }
   ],
   "source": [
    "m, M = min(nums), max(nums)\n",
    "S = []\n",
    "C = defaultdict(int)\n",
    "\n",
    "for n in nums:\n",
    "    C[n] += 1\n",
    "\n",
    "for n in range(m, M+1): \n",
    "    S.extend([n]* C[n])\n",
    "    \n",
    "S\n"
   ]
  },
  {
   "cell_type": "markdown",
   "id": "f22860d9-7b4b-4949-a04d-6da6e7599562",
   "metadata": {},
   "source": [
    "### Max length array in 2 arrays (dynamic prog)"
   ]
  },
  {
   "cell_type": "code",
   "execution_count": 61,
   "id": "33216d26-6c6e-4a77-927c-d707f36802d3",
   "metadata": {},
   "outputs": [],
   "source": [
    "nums1 = [1,2,3,2,1]\n",
    "nums2 = [3,2,1,4,7]   # Answer = 3: [3,2,1]"
   ]
  },
  {
   "cell_type": "code",
   "execution_count": 76,
   "id": "1aeae737-22d3-4832-910a-79566ac74989",
   "metadata": {},
   "outputs": [
    {
     "data": {
      "text/plain": [
       "3"
      ]
     },
     "execution_count": 76,
     "metadata": {},
     "output_type": "execute_result"
    }
   ],
   "source": [
    "m=len(nums1)\n",
    "n=len(nums2)\n",
    "dp = [[0 for _ in range(n+1)] for _ in range(m+1)]\n",
    "res=0\n",
    "\n",
    "for i in range(m):\n",
    "    for j in range(n):\n",
    "        if nums1[i]==nums2[j]:\n",
    "            dp[i+1][j+1]=dp[i][j]+1\n",
    "        else:\n",
    "            dp[i+1][j+1]=0\n",
    "        res = max(res, dp[i+1][j+1])\n",
    "\n",
    "res"
   ]
  },
  {
   "cell_type": "markdown",
   "id": "a49d554f-3d63-4b8f-a6db-95afc1b034cf",
   "metadata": {
    "tags": [],
    "toc-hr-collapsed": true
   },
   "source": [
    "### Fibonacci"
   ]
  },
  {
   "cell_type": "code",
   "execution_count": 2,
   "id": "4c6dc5f6-7bee-44dc-a621-2e7d4e0eb7c6",
   "metadata": {},
   "outputs": [
    {
     "data": {
      "text/plain": [
       "8"
      ]
     },
     "execution_count": 2,
     "metadata": {},
     "output_type": "execute_result"
    }
   ],
   "source": [
    "def fib(n):\n",
    "    if n == 1 or n==2:\n",
    "        return 1\n",
    "    else:\n",
    "        return fib(n-1) + fib(n-2)\n",
    "        \n",
    "fib(6)"
   ]
  },
  {
   "cell_type": "markdown",
   "id": "533363c4-93fb-4c35-b51d-c4beaa1230b7",
   "metadata": {},
   "source": [
    "## STRINGS ----"
   ]
  },
  {
   "cell_type": "markdown",
   "id": "7f021fa4-df86-4452-908f-3c16946898e3",
   "metadata": {
    "tags": []
   },
   "source": [
    "### Domains "
   ]
  },
  {
   "cell_type": "code",
   "execution_count": 4,
   "id": "7445c224-0e5d-4ba6-9406-b66f3886561d",
   "metadata": {},
   "outputs": [
    {
     "data": {
      "text/plain": [
       "['9001 discuss.leetcode.com', '9001 leetcode.com']"
      ]
     },
     "execution_count": 4,
     "metadata": {},
     "output_type": "execute_result"
    }
   ],
   "source": [
    "cpdomains = [\"9001 discuss.leetcode.com\"]\n",
    "\n",
    "ans = defaultdict(int)\n",
    "        \n",
    "for domain in cpdomains:\n",
    "    count, domain = domain.split()\n",
    "    count = int(count)\n",
    "    frags = domain.split('.')\n",
    "    for i in range(len(frags)-1):\n",
    "        ans[\".\".join(frags[i:])] += count\n",
    "\n",
    "[f\"{ct} {dom}\" for dom, ct in ans.items()]"
   ]
  },
  {
   "cell_type": "markdown",
   "id": "bb927755-5880-4664-8441-642509bb6e8d",
   "metadata": {},
   "source": [
    "### Words formed from chars"
   ]
  },
  {
   "cell_type": "code",
   "execution_count": 60,
   "id": "72b66cf9-cdfc-4462-8b3a-cdd577643101",
   "metadata": {},
   "outputs": [
    {
     "data": {
      "text/plain": [
       "6"
      ]
     },
     "execution_count": 60,
     "metadata": {},
     "output_type": "execute_result"
    }
   ],
   "source": [
    "words = [\"cat\",\"bt\",\"hat\",\"tree\"]\n",
    "chars = \"atach\"\n",
    "\n",
    "chars_map = defaultdict(int)\n",
    "result = 0\n",
    "\n",
    "for char in chars:\n",
    "    chars_map[char] += 1\n",
    "\n",
    "for word in words:\n",
    "    words_map = defaultdict(int)\n",
    "    count = 0\n",
    "    for i in word:\n",
    "        words_map[i] += 1\n",
    "        if chars_map[i] >= words_map[i]:\n",
    "            count += 1\n",
    "        if count == len(word):\n",
    "            result += len(word)\n",
    "\n",
    "result\n",
    "        "
   ]
  },
  {
   "cell_type": "markdown",
   "id": "739ceb9e-57a9-45ae-a9d7-a393c7118773",
   "metadata": {},
   "source": [
    "### Shortest dist between 2 strings"
   ]
  },
  {
   "cell_type": "code",
   "execution_count": 78,
   "id": "4450ee5e-4cec-43d1-a450-325c28c13143",
   "metadata": {},
   "outputs": [],
   "source": [
    "wordsDict = [\"practice\", \"makes\", \"perfect\", \"coding\", \"makes\"]\n",
    "word1 = \"coding\"\n",
    "word2 = \"practice\"    # Answer: 3"
   ]
  },
  {
   "cell_type": "code",
   "execution_count": null,
   "id": "5591b589-e3cf-4a50-b2df-347ce0c9981c",
   "metadata": {},
   "outputs": [],
   "source": []
  },
  {
   "cell_type": "markdown",
   "id": "619ecde2-0db7-4bb9-9d2d-79a923524450",
   "metadata": {},
   "source": [
    "### Sort a list of strings alpha numeric and numeric strings"
   ]
  },
  {
   "cell_type": "code",
   "execution_count": null,
   "id": "68da091d-ca3b-4792-9c64-b4bd54a23759",
   "metadata": {},
   "outputs": [],
   "source": []
  },
  {
   "cell_type": "markdown",
   "id": "03252864-b2e4-475a-9e74-979c8f6e7d0e",
   "metadata": {},
   "source": [
    "### Merge two sorted list"
   ]
  },
  {
   "cell_type": "code",
   "execution_count": null,
   "id": "b7720c94-cddc-4d9b-93a8-659389dcc4c8",
   "metadata": {},
   "outputs": [],
   "source": []
  },
  {
   "cell_type": "markdown",
   "id": "503c260c-4b5e-4ee2-994f-5439a82cd871",
   "metadata": {},
   "source": [
    "### Using a list of titles for jobs take in a \"raw\" string and match it to one of clean strings using a counter."
   ]
  },
  {
   "cell_type": "code",
   "execution_count": null,
   "id": "0a77947e-36ca-4385-9084-b1d447eb11da",
   "metadata": {},
   "outputs": [],
   "source": []
  },
  {
   "cell_type": "markdown",
   "id": "d7be628b-0aa9-4913-a5d3-b1d3dcff6a08",
   "metadata": {},
   "source": [
    "### Find number of substrings within another string"
   ]
  },
  {
   "cell_type": "code",
   "execution_count": null,
   "id": "e40b4a9f-4125-4273-9df9-0de480310b51",
   "metadata": {},
   "outputs": [],
   "source": []
  }
 ],
 "metadata": {
  "kernelspec": {
   "display_name": "Python 3 (ipykernel)",
   "language": "python",
   "name": "python3"
  },
  "language_info": {
   "codemirror_mode": {
    "name": "ipython",
    "version": 3
   },
   "file_extension": ".py",
   "mimetype": "text/x-python",
   "name": "python",
   "nbconvert_exporter": "python",
   "pygments_lexer": "ipython3",
   "version": "3.9.10"
  }
 },
 "nbformat": 4,
 "nbformat_minor": 5
}
